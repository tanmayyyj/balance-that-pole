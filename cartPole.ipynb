{
  "nbformat": 4,
  "nbformat_minor": 0,
  "metadata": {
    "colab": {
      "provenance": [],
      "gpuType": "T4"
    },
    "kernelspec": {
      "name": "python3",
      "display_name": "Python 3"
    },
    "language_info": {
      "name": "python"
    },
    "accelerator": "GPU"
  },
  "cells": [
    {
      "cell_type": "code",
      "execution_count": 2,
      "metadata": {
        "id": "jtdI_fvnNrFD"
      },
      "outputs": [],
      "source": [
        "%matplotlib inline"
      ]
    },
    {
      "cell_type": "code",
      "source": [
        "%%capture\n",
        "!pip install gym[atari]==0.25\n",
        "\n",
        "!pip install torch\n",
        "!pip install torchvision"
      ],
      "metadata": {
        "id": "wFYIz6lgN1B2"
      },
      "execution_count": 3,
      "outputs": []
    },
    {
      "cell_type": "markdown",
      "source": [
        "## Display requirements"
      ],
      "metadata": {
        "id": "5TYLlcuVBheI"
      }
    },
    {
      "cell_type": "code",
      "source": [
        "!pip install pyglet==1.5.0"
      ],
      "metadata": {
        "colab": {
          "base_uri": "https://localhost:8080/"
        },
        "id": "VqM-gLPVOnZx",
        "outputId": "a7f9a998-c0ac-4d94-e674-2df1ddbb39b4"
      },
      "execution_count": 4,
      "outputs": [
        {
          "output_type": "stream",
          "name": "stdout",
          "text": [
            "Requirement already satisfied: pyglet==1.5.0 in /usr/local/lib/python3.10/dist-packages (1.5.0)\n",
            "Requirement already satisfied: future in /usr/local/lib/python3.10/dist-packages (from pyglet==1.5.0) (0.18.3)\n"
          ]
        }
      ]
    },
    {
      "cell_type": "code",
      "source": [
        "!pip install pyvirtualdisplay"
      ],
      "metadata": {
        "colab": {
          "base_uri": "https://localhost:8080/"
        },
        "id": "3iTayt-qO9Wg",
        "outputId": "619e324c-7490-4fe6-f656-1b91d7302435"
      },
      "execution_count": 5,
      "outputs": [
        {
          "output_type": "stream",
          "name": "stdout",
          "text": [
            "Requirement already satisfied: pyvirtualdisplay in /usr/local/lib/python3.10/dist-packages (3.0)\n"
          ]
        }
      ]
    },
    {
      "cell_type": "code",
      "source": [
        "%%capture\n",
        "!apt install python-opengl\n",
        "!apt install ffmpeg\n",
        "!apt install xvfb"
      ],
      "metadata": {
        "id": "8hcTrjNaSqtZ"
      },
      "execution_count": 6,
      "outputs": []
    },
    {
      "cell_type": "code",
      "source": [
        "import gym\n",
        "import math\n",
        "import random\n",
        "import numpy as np\n",
        "import matplotlib\n",
        "import matplotlib.pyplot as plt\n",
        "from collections import namedtuple, deque\n",
        "from itertools import count\n",
        "from PIL import Image\n",
        "\n",
        "import torch\n",
        "import torch.nn as nn\n",
        "import torch.optim as optim\n",
        "import torch.nn.functional as F\n",
        "import torchvision.transforms as T\n",
        "\n",
        "import os\n",
        "from pyvirtualdisplay import Display\n",
        "from matplotlib import animation, rc"
      ],
      "metadata": {
        "id": "CWDIZ-2WPGcj"
      },
      "execution_count": 7,
      "outputs": []
    },
    {
      "cell_type": "code",
      "source": [
        "display = Display(visible = 0, size = (1400, 900))\n",
        "display.start()\n",
        "\n",
        "os.environ[\"DISPLAY\"] = \":\" + str(display.display) + \".\" + str(display._obj._screen)\n",
        "\n",
        "env = gym.make('CartPole-v1', new_step_api = True, render_mode = \"rgb_array\")\n",
        "\n",
        "is_python = 'inline' in matplotlib.get_backend()\n",
        "if is_python:\n",
        "  from IPython import display\n",
        "plt.ion()"
      ],
      "metadata": {
        "colab": {
          "base_uri": "https://localhost:8080/"
        },
        "id": "U9MQ_EaxQ_MA",
        "outputId": "941d4254-ac38-4031-924b-9b3aba16b14e"
      },
      "execution_count": 13,
      "outputs": [
        {
          "output_type": "execute_result",
          "data": {
            "text/plain": [
              "<contextlib.ExitStack at 0x7cda56f88340>"
            ]
          },
          "metadata": {},
          "execution_count": 13
        }
      ]
    },
    {
      "cell_type": "code",
      "source": [
        "env.reset()\n",
        "screen = env.render() #ENV.RENDER IS GIVING OUT A NDARRAY FOR THE CURRENT OBSERVATION OF THE ENVIRONMENT\n",
        "plt.imshow(screen[0]) #pehle toh kaam hi nahi kar raha tha\n",
        "plt.grid(False)"
      ],
      "metadata": {
        "colab": {
          "base_uri": "https://localhost:8080/",
          "height": 396
        },
        "id": "-gTAIe81SZZz",
        "outputId": "db2884a4-638d-41c2-d248-f2784fb580c1"
      },
      "execution_count": 14,
      "outputs": [
        {
          "output_type": "display_data",
          "data": {
            "text/plain": [
              "<Figure size 640x480 with 1 Axes>"
            ],
            "image/png": "[encoded data removed]"
          },
          "metadata": {}
        }
      ]
    },
    {
      "cell_type": "code",
      "source": [
        "frame = []\n",
        "env.reset()\n",
        "total_reward = 0\n",
        "\n",
        "for i in range(100):\n",
        "  action = env.action_space.sample()\n",
        "  new_state, reward, truncated, terminated, info = env.step(action)\n",
        "  total_reward += reward\n",
        "  screen = env.render()[0]\n",
        "  img = plt.imshow(screen)\n",
        "  frame.append([img])\n",
        "  if truncated or terminated:\n",
        "    break\n",
        "\n",
        "print(\"Game terminated after:\", len(frame), \" with reward = \", total_reward)\n",
        "# len(frame),"
      ],
      "metadata": {
        "colab": {
          "base_uri": "https://localhost:8080/",
          "height": 413
        },
        "id": "8zv_sffMTiCE",
        "outputId": "e1900805-2762-4764-8d86-9782cb49c84b"
      },
      "execution_count": 15,
      "outputs": [
        {
          "output_type": "stream",
          "name": "stdout",
          "text": [
            "Game terminated after: 19  with reward =  19.0\n"
          ]
        },
        {
          "output_type": "display_data",
          "data": {
            "text/plain": [
              "<Figure size 640x480 with 1 Axes>"
            ],
            "image/png": "[encoded data removed]"
          },
          "metadata": {}
        }
      ]
    },
    {
      "cell_type": "code",
      "source": [
        "Transition = namedtuple('Transition', ('state', 'action', 'next_state', 'reward'))"
      ],
      "metadata": {
        "id": "B1ZgShgxa2cU"
      },
      "execution_count": 16,
      "outputs": []
    },
    {
      "cell_type": "code",
      "source": [
        "class ReplayMemory(object):\n",
        "  def __init__(self, capacity):\n",
        "    self.capacity = capacity\n",
        "    self.memory = deque([], maxlen = self.capacity)\n",
        "\n",
        "  def push(self, *args):\n",
        "    self.memory.append(Transition(*args))\n",
        "\n",
        "  def sample(self, batch_size):\n",
        "    return random.sample(self.memory, batch_size)\n",
        "\n",
        "  def __len__(self):\n",
        "    return len(self.memory)"
      ],
      "metadata": {
        "id": "PvVvRLCHb5Rq"
      },
      "execution_count": 17,
      "outputs": []
    },
    {
      "cell_type": "markdown",

      "metadata": {
        "id": "gkS6h7qHilLE"
      }
    },
    {
      "cell_type": "code",
      "source": [
        "class DQN(nn.Module):\n",
        "\n",
        "  def __init__(self, h, w, outputs):\n",
        "    super(DQN, self).__init__()\n",
        "    self.conv1 = nn.Conv2d(in_channels = 3, out_channels = 16, kernel_size = 5, stride = 2)\n",
        "    self.bn1 = nn.BatchNorm2d(16)\n",
        "    self.conv2 = nn.Conv2d(in_channels = 16, out_channels = 32, kernel_size = 5, stride = 2)\n",
        "    self.bn2 = nn.BatchNorm2d(32)\n",
        "    self.conv3 = nn.Conv2d(in_channels = 32, out_channels = 32, kernel_size=5, stride = 2)\n",
        "    self.bn3 = nn.BatchNorm2d(32)\n",
        "\n",
        "    def conv2d_size_out(size, kernel_size = 5, stride = 2):\n",
        "      return (size - (kernel_size - 1) - 1)//stride + 1\n",
        "\n",
        "    conv_w = conv2d_size_out(conv2d_size_out(conv2d_size_out(w)))\n",
        "    conv_h = conv2d_size_out(conv2d_size_out(conv2d_size_out(h)))\n",
        "\n",
        "    linear_input_size = conv_w*conv_h*32\n",
        "\n",
        "    self.head = nn.Linear(linear_input_size, outputs)\n",
        "\n",
        "  def forward(self, x):\n",
        "    x = F.relu(self.bn1(self.conv1(x)))\n",
        "    x = F.relu(self.bn2(self.conv2(x)))\n",
        "    x = F.relu(self.bn3(self.conv3(x)))\n",
        "\n",
        "    return self.head(x.view(x.size(0), -1))\n"
      ],
      "metadata": {
        "id": "A8PwXXTKdLJc"
      },
      "execution_count": 18,
      "outputs": []
    },
    {
      "cell_type": "code",
      "source": [
        "resize = T.Compose([T.ToPILImage(), T.Resize(40, interpolation = Image.CUBIC), T.ToTensor()])\n",
        "\n",
        "def get_cart_location(screen_width):\n",
        "  world_width = env.x_threshold*2\n",
        "  scale = screen_width/world_width\n",
        "  return int(env.state[0]*scale + screen_width/2.0)\n",
        "\n",
        "def get_screen():\n",
        "  screen = env.render()[0]\n",
        "  screen = screen.transpose((2, 0, 1)) #Why should I render the environment?\n",
        "  _, screen_height, screen_width = screen.shape\n",
        "  screen = screen[:, int(screen_height*0.4) : int(screen_height*0.8)]\n",
        "\n",
        "  view_width = int(screen_width * 0.6)\n",
        "\n",
        "  cart_location = get_cart_location(view_width)\n",
        "\n",
        "  if cart_location < view_width//2:\n",
        "    slice_range = slice(view_width)\n",
        "  elif cart_location > (screen_width - view_width)//2:\n",
        "    slice_range = slice(-view_width, None)\n",
        "  else:\n",
        "    slice_range = slice(cart_location - view_width//2, cart_location + view_width//2)\n",
        "\n",
        "  screen = screen[:, :, slice_range]\n",
        "  screen = np.ascontiguousarray(screen, dtype = np.float32)/255\n",
        "  screen = torch.from_numpy(screen)\n",
        "\n",
        "  return resize(screen).unsqueeze(0)\n",
        "\n",
        "env.reset()\n",
        "plt.figure()\n",
        "plt.imshow(get_screen().cpu().squeeze(0).permute(1, 2, 0).numpy(), interpolation = 'none')\n",
        "plt.title('Example extracted screen')\n",
        "plt.show()"
      ],
      "metadata": {
        "id": "EP_G6mi9hWx6"
      },
      "execution_count": null,
      "outputs": []
    },
    {
      "cell_type": "code",
      "source": [
        "BATCH_SIZE = 128\n",
        "GAMMA = 0.995\n",
        "EPS_START = 0.9\n",
        "EPS_END = 0.05\n",
        "EPS_DECAY = 200\n",
        "TARGET_UPDATE = 10\n",
        "\n",
        "init_screen = get_screen()\n",
        "_, _, screen_height, screen_width = init_screen.shape\n",
        "\n",
        "n_actions = env.action_space.n\n",
        "\n",
        "policy_net = DQN(screen_height, screen_width, n_actions)\n",
        "target_net = DQN(screen_height, screen_width, n_actions)\n",
        "target_net.load_state_dict(policy_net.state_dict())\n",
        "target_net.eval()\n",
        "\n",
        "\n",
        "optimizer = optim.RMSprop(policy_net.parameters())\n",
        "memory = ReplayMemory(10000)\n",
        "\n",
        "steps_done = 0\n",
        "num_episodes = 25"
      ],
      "metadata": {
        "id": "rMVQMSLPrYye",
        "colab": {
          "base_uri": "https://localhost:8080/",
          "height": 357
        },
        "outputId": "546c97b7-f0d0-4fbb-a9ed-2695d715f46e"
      },
      "execution_count": 20,
      "outputs": [
        {
          "output_type": "error",
          "ename": "IndexError",
          "evalue": "ignored",
          "traceback": [
            "\u001b[0;31m---------------------------------------------------------------------------\u001b[0m",
            "\u001b[0;31mIndexError\u001b[0m                                Traceback (most recent call last)",
            "\u001b[0;32m<ipython-input-20-688ab0cd7a75>\u001b[0m in \u001b[0;36m<cell line: 8>\u001b[0;34m()\u001b[0m\n\u001b[1;32m      6\u001b[0m \u001b[0mTARGET_UPDATE\u001b[0m \u001b[0;34m=\u001b[0m \u001b[0;36m10\u001b[0m\u001b[0;34m\u001b[0m\u001b[0;34m\u001b[0m\u001b[0m\n\u001b[1;32m      7\u001b[0m \u001b[0;34m\u001b[0m\u001b[0m\n\u001b[0;32m----> 8\u001b[0;31m \u001b[0minit_screen\u001b[0m \u001b[0;34m=\u001b[0m \u001b[0mget_screen\u001b[0m\u001b[0;34m(\u001b[0m\u001b[0;34m)\u001b[0m\u001b[0;34m\u001b[0m\u001b[0;34m\u001b[0m\u001b[0m\n\u001b[0m\u001b[1;32m      9\u001b[0m \u001b[0m_\u001b[0m\u001b[0;34m,\u001b[0m \u001b[0m_\u001b[0m\u001b[0;34m,\u001b[0m \u001b[0mscreen_height\u001b[0m\u001b[0;34m,\u001b[0m \u001b[0mscreen_width\u001b[0m \u001b[0;34m=\u001b[0m \u001b[0minit_screen\u001b[0m\u001b[0;34m.\u001b[0m\u001b[0mshape\u001b[0m\u001b[0;34m\u001b[0m\u001b[0;34m\u001b[0m\u001b[0m\n\u001b[1;32m     10\u001b[0m \u001b[0;34m\u001b[0m\u001b[0m\n",
            "\u001b[0;32m<ipython-input-19-e2fe5007c114>\u001b[0m in \u001b[0;36mget_screen\u001b[0;34m()\u001b[0m\n\u001b[1;32m      7\u001b[0m \u001b[0;34m\u001b[0m\u001b[0m\n\u001b[1;32m      8\u001b[0m \u001b[0;32mdef\u001b[0m \u001b[0mget_screen\u001b[0m\u001b[0;34m(\u001b[0m\u001b[0;34m)\u001b[0m\u001b[0;34m:\u001b[0m\u001b[0;34m\u001b[0m\u001b[0;34m\u001b[0m\u001b[0m\n\u001b[0;32m----> 9\u001b[0;31m   \u001b[0mscreen\u001b[0m \u001b[0;34m=\u001b[0m \u001b[0menv\u001b[0m\u001b[0;34m.\u001b[0m\u001b[0mrender\u001b[0m\u001b[0;34m(\u001b[0m\u001b[0;34m)\u001b[0m\u001b[0;34m[\u001b[0m\u001b[0;36m0\u001b[0m\u001b[0;34m]\u001b[0m\u001b[0;34m\u001b[0m\u001b[0;34m\u001b[0m\u001b[0m\n\u001b[0m\u001b[1;32m     10\u001b[0m   \u001b[0mscreen\u001b[0m \u001b[0;34m=\u001b[0m \u001b[0mscreen\u001b[0m\u001b[0;34m.\u001b[0m\u001b[0mtranspose\u001b[0m\u001b[0;34m(\u001b[0m\u001b[0;34m(\u001b[0m\u001b[0;36m2\u001b[0m\u001b[0;34m,\u001b[0m \u001b[0;36m0\u001b[0m\u001b[0;34m,\u001b[0m \u001b[0;36m1\u001b[0m\u001b[0;34m)\u001b[0m\u001b[0;34m)\u001b[0m \u001b[0;31m#Why should I render the environment?\u001b[0m\u001b[0;34m\u001b[0m\u001b[0;34m\u001b[0m\u001b[0m\n\u001b[1;32m     11\u001b[0m   \u001b[0m_\u001b[0m\u001b[0;34m,\u001b[0m \u001b[0mscreen_height\u001b[0m\u001b[0;34m,\u001b[0m \u001b[0mscreen_width\u001b[0m \u001b[0;34m=\u001b[0m \u001b[0mscreen\u001b[0m\u001b[0;34m.\u001b[0m\u001b[0mshape\u001b[0m\u001b[0;34m\u001b[0m\u001b[0;34m\u001b[0m\u001b[0m\n",
            "\u001b[0;31mIndexError\u001b[0m: list index out of range"
          ]
        }
      ]
    },
    {
      "cell_type": "code",
      "source": [
        "#Helper functions\n",
        "\n",
        "def select_action(state, policy = None, train = None):\n",
        "  global steps_done\n",
        "  sample = random.random()\n",
        "  eps_threshold = EPS_END + (EPS_START - EPS_END)*math.exp(-1.*steps_done/EPS_DECAY)\n",
        "  steps_done += 1\n",
        "\n",
        "  with torch.no_grad():\n",
        "    action = policy(state).max(1)[1].view(1,1)\n",
        "\n",
        "  if train:\n",
        "    if sample > eps_threshold:\n",
        "      return action\n",
        "    else:\n",
        "      return torch.tensor([[random.randrange(n_actions)]], dtype = torch.long)\n",
        "\n",
        "  else:\n",
        "    return action\n",
        "\n",
        "episode_duration = []\n",
        "\n",
        "def plot_durations():\n",
        "  plt.figure(2)\n",
        "  plt.clf()\n",
        "  duration_t = torch.tensor(episode_duration, dtype = torch.float)\n",
        "  plt.title(\"Training...\")\n",
        "  plt.xlabel(\"Episode\")\n",
        "  plt.ylabel(\"Duration\")\n",
        "  plt.plot(duration_t.numpy())\n",
        "\n",
        "  if len(duration_t) >= 100:\n",
        "    means = duration_t.unfold(0, 100, 1).mean(1).view(-1)\n",
        "    means = torch.cat((torch.zeros(99), means))\n",
        "    plt.plot(means.numpy())\n",
        "\n",
        "  plt.pause(0.001)\n",
        "  if is_python:\n",
        "    display.clear_output(wait = True)\n",
        "    display.display(plt.gcf())"
      ],
      "metadata": {
        "id": "aCFJDlRmgzzX",
        "colab": {
          "base_uri": "https://localhost:8080/"
        },
        "outputId": "b432bd3a-c8e0-4dde-9bfe-77dcbe2ecdef"
      },
      "execution_count": 48,
      "outputs": [
        {
          "output_type": "stream",
          "name": "stderr",
          "text": [
            "/usr/local/lib/python3.10/dist-packages/ipykernel/ipkernel.py:283: DeprecationWarning: `should_run_async` will not call `transform_cell` automatically in the future. Please pass the result to `transformed_cell` argument and any exception that happen during thetransform in `preprocessing_exc_tuple` in IPython 7.17 and above.\n",
            "  and should_run_async(code)\n"
          ]
        }
      ]
    },
    {
      "cell_type": "code",
      "source": [
        "def optim_model():\n",
        "  if len(memory) < BATCH_SIZE: #FIRST INSTANCE MEIN YEH NONE OBJECT RETURN KAR RAHA HAI\n",
        "    return #HOW TO OVERCOME THIS?\n",
        "\n",
        "  transitions = memory.sample(BATCH_SIZE)\n",
        "  batch = Transition(*zip(*transitions))\n",
        "\n",
        "  non_final_mask= torch.tensor(tuple(map(lambda s : s is not None, batch.next_state)), dtype = torch.bool)\n",
        "\n",
        "  non_final_next_states = torch.cat([s for s in batch.next_state if s is not None])\n",
        "\n",
        "  state_batch = torch.cat(batch.state)\n",
        "  action_batch = torch.cat(batch.action)\n",
        "  reward_batch = torch.cat(batch.reward)\n",
        "\n",
        "  state_action_values = policy_net(state_batch).gather(1, action_batch)\n",
        "\n",
        "  next_state_values = torch.zeros(BATCH_SIZE)\n",
        "  next_state_values[non_final_mask] = target_net(non_final_next_states).max(1)[0].detach()\n",
        "\n",
        "  expected_state_action_values = (next_state_values*GAMMA) + reward_batch\n",
        "\n",
        "  criterion = nn.SmoothL1Loss()\n",
        "  loss = criterion(state_action_values, expected_state_action_values.unsqueeze(1))\n",
        "\n",
        "  optimizer.zero_grad()\n",
        "  loss.backward()\n",
        "\n",
        "  for param in policy_net.parameters():\n",
        "    print(param)\n",
        "    param.grad.data.clamp(-1, 1)\n",
        "  optimizer.step()"
      ],
      "metadata": {
        "id": "QcsUWEf3hBvF",
        "colab": {
          "base_uri": "https://localhost:8080/"
        },
        "outputId": "6a8cbf46-797b-43de-ba3e-f2e41418d9a8"
      },
      "execution_count": 59,
      "outputs": [
        {
          "output_type": "stream",
          "name": "stderr",
          "text": [
            "/usr/local/lib/python3.10/dist-packages/ipykernel/ipkernel.py:283: DeprecationWarning: `should_run_async` will not call `transform_cell` automatically in the future. Please pass the result to `transformed_cell` argument and any exception that happen during thetransform in `preprocessing_exc_tuple` in IPython 7.17 and above.\n",
            "  and should_run_async(code)\n"
          ]
        }
      ]
    },
    {
      "cell_type": "code",
      "source": [
        "from tqdm import tqdm"
      ],
      "metadata": {
        "id": "KlRlaS9K5So_"
      },
      "execution_count": 60,
      "outputs": []
    },
    {
      "cell_type": "code",
      "source": [
        "from IPython.core import prefilter\n",
        "\n",
        "for i in tqdm(range(num_episodes + 1)):\n",
        "  env.reset()\n",
        "  last_screen = get_screen()\n",
        "  current_screen = get_screen()\n",
        "  state = current_screen - last_screen\n",
        "\n",
        "  for t in count():\n",
        "    # action = select_action(state, policy_net, train = False)\n",
        "    action = select_action(state, policy_net)\n",
        "    _, reward, truncated, terminated, _ = env.step(action.item())\n",
        "    reward = torch.tensor([reward])\n",
        "\n",
        "    last_screen = current_screen\n",
        "    current_screen = get_screen()\n",
        "\n",
        "    if not (truncated or terminated):\n",
        "      next_state = current_screen - last_screen\n",
        "\n",
        "    else:\n",
        "      next_state = None\n",
        "\n",
        "    memory.push(state, action, next_state, reward)\n",
        "\n",
        "    state = next_state\n",
        "\n",
        "    optim_model()\n",
        "    if truncated or terminated:\n",
        "      episode_duration.append(t + 1)\n",
        "      break\n",
        "\n",
        "  if i % TARGET_UPDATE == 0:\n",
        "    print(f\"Completed episodes: {i}\")\n",
        "    target_net.load_state_dict(policy_net.state_dict())\n",
        "\n",
        "  if i % 50 == 0:\n",
        "    print(f\"Playing games after episode: {i}\")\n",
        "    frame = []\n",
        "    env.reset()\n",
        "    last_screen = get_screen()\n",
        "    current_screen = get_screen()\n",
        "\n",
        "    state = current_screen - last_screen\n",
        "    total_reward = 0\n",
        "    for i in range(1000):\n",
        "      if i == 0:\n",
        "        action = env.action_space.sample()\n",
        "\n",
        "      action = select_action(state, policy_net, train = False)\n",
        "      pseudo_state, reward, truncated, terminated, info = env.step(action)\n",
        "      total_reward += reward\n",
        "\n",
        "      last_screen = current_screen\n",
        "      current_screen = get_screen()\n",
        "\n",
        "      if not (truncated or terminated):\n",
        "        state = current_screen - last_screen\n",
        "      else:\n",
        "        break\n",
        "\n",
        "      if truncated or terminated:\n",
        "        break\n",
        "\n",
        "    print(f\"Game terminated after: {len(frame)}, steps with reward {total_reward}\")\n",
        "\n",
        "print(\"Complete\")\n",
        "env.render()\n",
        "env.close()\n",
        "plt.ioff()\n",
        "plt.show()"
      ],
      "metadata": {
        "id": "VozqgB07rocd"
      },
      "execution_count": null,
      "outputs": []
    },
    {
      "cell_type": "code",
      "source": [
        "sum_reward = 0\n",
        "frame = []\n",
        "\n",
        "for j in range(1):\n",
        "  last_screen = get_screen()\n",
        "  current_screen = get_screen()\n",
        "\n",
        "  state = current_screen - last_screen\n",
        "  STEPS = 0\n",
        "  total_reward = 0\n",
        "\n",
        "  for i in range(300):\n",
        "\n",
        "    if i == 0:\n",
        "      action = env.action_space.sample()\n",
        "\n",
        "    action = select_action(state, policy_net, train = False) #action is discrete with a value 2\n",
        "\n",
        "    print(\"Action state is: \", action[0][0])\n",
        "    pseudo_state, reward, truncated, terminated, info = env.step(action[0][0]) #Why is reward = 1, at each step?? IT IS DEFINED THIS WAY, I HAVE TO KEEP IT UPRIGHT FOR EVERY STEP, I'LL GET A REWARD\n",
        "                                                        #ENV.STEP IS RENDERING THE ENVIRONMENT, GIVING OUT AN EMPTY LIST BELOW\n",
        "    print(\"The reward is: \", reward)\n",
        "    total_reward += reward\n",
        "    print(\"Total reward is:\", total_reward)\n",
        "\n",
        "    last_screen = current_screen\n",
        "    current_screen = get_screen()\n",
        "\n",
        "    STEPS += 1\n",
        "\n",
        "    if not truncated or terminated:\n",
        "      state = current_screen - last_screen\n",
        "    # if not :\n",
        "    #   state = current_screen - last_screen\n",
        "    else:\n",
        "      break\n",
        "\n",
        "    img = plt.imshow(env.render()[0]) #WHEN STEP IS TAKEN IT AUTOMATICALLY RENDERS THE ENVIRONMENT, PSEUDO_STATE ??\n",
        "    frame.append([img])\n",
        "\n",
        "    if truncated or terminated:\n",
        "      break\n",
        "\n",
        "  print(f\"Game {j} terminated after {STEPS} steps with reward {total_reward}\")\n",
        "  # print(f\"Game {j} terminated after {len(frame)} steps with reward {total_reward}\")\n",
        "  sum_reward += total_reward\n",
        "\n",
        "print(\"Average reward\", sum_reward/100)"
      ],
      "metadata": {
        "colab": {
          "base_uri": "https://localhost:8080/",
          "height": 412
        },
        "id": "fU_PgQV9cMwP",
        "outputId": "2ee1f7bd-b90b-49ad-ca64-0695892d0acc"
      },
      "execution_count": 104,
      "outputs": [
        {
          "output_type": "stream",
          "name": "stderr",
          "text": [
            "/usr/local/lib/python3.10/dist-packages/ipykernel/ipkernel.py:283: DeprecationWarning: `should_run_async` will not call `transform_cell` automatically in the future. Please pass the result to `transformed_cell` argument and any exception that happen during thetransform in `preprocessing_exc_tuple` in IPython 7.17 and above.\n",
            "  and should_run_async(code)\n"
          ]
        },
        {
          "output_type": "error",
          "ename": "IndexError",
          "evalue": "ignored",
          "traceback": [
            "\u001b[0;31m---------------------------------------------------------------------------\u001b[0m",
            "\u001b[0;31mIndexError\u001b[0m                                Traceback (most recent call last)",
            "\u001b[0;32m<ipython-input-104-e54ef052b6bb>\u001b[0m in \u001b[0;36m<cell line: 4>\u001b[0;34m()\u001b[0m\n\u001b[1;32m      3\u001b[0m \u001b[0;34m\u001b[0m\u001b[0m\n\u001b[1;32m      4\u001b[0m \u001b[0;32mfor\u001b[0m \u001b[0mj\u001b[0m \u001b[0;32min\u001b[0m \u001b[0mrange\u001b[0m\u001b[0;34m(\u001b[0m\u001b[0;36m1\u001b[0m\u001b[0;34m)\u001b[0m\u001b[0;34m:\u001b[0m\u001b[0;34m\u001b[0m\u001b[0;34m\u001b[0m\u001b[0m\n\u001b[0;32m----> 5\u001b[0;31m   \u001b[0mlast_screen\u001b[0m \u001b[0;34m=\u001b[0m \u001b[0mget_screen\u001b[0m\u001b[0;34m(\u001b[0m\u001b[0;34m)\u001b[0m\u001b[0;34m\u001b[0m\u001b[0;34m\u001b[0m\u001b[0m\n\u001b[0m\u001b[1;32m      6\u001b[0m   \u001b[0mcurrent_screen\u001b[0m \u001b[0;34m=\u001b[0m \u001b[0mget_screen\u001b[0m\u001b[0;34m(\u001b[0m\u001b[0;34m)\u001b[0m\u001b[0;34m\u001b[0m\u001b[0;34m\u001b[0m\u001b[0m\n\u001b[1;32m      7\u001b[0m \u001b[0;34m\u001b[0m\u001b[0m\n",
            "\u001b[0;32m<ipython-input-97-e2fe5007c114>\u001b[0m in \u001b[0;36mget_screen\u001b[0;34m()\u001b[0m\n\u001b[1;32m      7\u001b[0m \u001b[0;34m\u001b[0m\u001b[0m\n\u001b[1;32m      8\u001b[0m \u001b[0;32mdef\u001b[0m \u001b[0mget_screen\u001b[0m\u001b[0;34m(\u001b[0m\u001b[0;34m)\u001b[0m\u001b[0;34m:\u001b[0m\u001b[0;34m\u001b[0m\u001b[0;34m\u001b[0m\u001b[0m\n\u001b[0;32m----> 9\u001b[0;31m   \u001b[0mscreen\u001b[0m \u001b[0;34m=\u001b[0m \u001b[0menv\u001b[0m\u001b[0;34m.\u001b[0m\u001b[0mrender\u001b[0m\u001b[0;34m(\u001b[0m\u001b[0;34m)\u001b[0m\u001b[0;34m[\u001b[0m\u001b[0;36m0\u001b[0m\u001b[0;34m]\u001b[0m\u001b[0;34m\u001b[0m\u001b[0;34m\u001b[0m\u001b[0m\n\u001b[0m\u001b[1;32m     10\u001b[0m   \u001b[0mscreen\u001b[0m \u001b[0;34m=\u001b[0m \u001b[0mscreen\u001b[0m\u001b[0;34m.\u001b[0m\u001b[0mtranspose\u001b[0m\u001b[0;34m(\u001b[0m\u001b[0;34m(\u001b[0m\u001b[0;36m2\u001b[0m\u001b[0;34m,\u001b[0m \u001b[0;36m0\u001b[0m\u001b[0;34m,\u001b[0m \u001b[0;36m1\u001b[0m\u001b[0;34m)\u001b[0m\u001b[0;34m)\u001b[0m \u001b[0;31m#Why should I render the environment?\u001b[0m\u001b[0;34m\u001b[0m\u001b[0;34m\u001b[0m\u001b[0m\n\u001b[1;32m     11\u001b[0m   \u001b[0m_\u001b[0m\u001b[0;34m,\u001b[0m \u001b[0mscreen_height\u001b[0m\u001b[0;34m,\u001b[0m \u001b[0mscreen_width\u001b[0m \u001b[0;34m=\u001b[0m \u001b[0mscreen\u001b[0m\u001b[0;34m.\u001b[0m\u001b[0mshape\u001b[0m\u001b[0;34m\u001b[0m\u001b[0;34m\u001b[0m\u001b[0m\n",
            "\u001b[0;31mIndexError\u001b[0m: list index out of range"
          ]
        }
      ]
    },
    {
      "cell_type": "code",
      "source": [
        "fig = plt.figure()\n",
        "\n",
        "anim = animation.ArtistAnimation(fig, frame, interval = 100, repeat_delay = 1000, blit = True)\n",
        "\n",
        "rc('animation', html = 'jshtml')\n",
        "anim"
      ],
      "metadata": {
        "id": "JQEdRdaKgVtM"
      },
      "execution_count": null,
      "outputs": []
    },
    {
      "cell_type": "code",
      "source": [],
      "metadata": {
        "id": "XfetuDnH9Bk5"
      },
      "execution_count": null,
      "outputs": []
    }
  ]
}
